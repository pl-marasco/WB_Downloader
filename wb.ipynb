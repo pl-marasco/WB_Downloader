{
 "cells": [
  {
   "cell_type": "code",
   "execution_count": 1,
   "metadata": {
    "collapsed": true
   },
   "outputs": [],
   "source": [
    "import os\n",
    "import requests\n",
    "import pandas as pd\n",
    "from tqdm import tqdm"
   ]
  },
  {
   "cell_type": "code",
   "execution_count": 2,
   "outputs": [],
   "source": [
    "user = 'pl_marasco'\n",
    "psw = 'Firenze123'\n",
    "\n",
    "folder = 'D:/Data/WB/1K'\n",
    "\n",
    "url = 'https://land.copernicus.vgt.vito.be/PDF/datapool/Water/Water_Bodies/Water_Bodies_Global_V2/'"
   ],
   "metadata": {
    "collapsed": false,
    "pycharm": {
     "name": "#%%\n"
    }
   }
  },
  {
   "cell_type": "code",
   "execution_count": 3,
   "outputs": [],
   "source": [
    "session = requests.Session()\n",
    "session.auth = (user, psw)\n",
    "\n",
    "manifest = session.get(url, allow_redirects=True)"
   ],
   "metadata": {
    "collapsed": false,
    "pycharm": {
     "name": "#%%\n"
    }
   }
  },
  {
   "cell_type": "code",
   "execution_count": 4,
   "outputs": [],
   "source": [
    "yrs = pd.read_html(manifest.text)[2][1:]['Year']"
   ],
   "metadata": {
    "collapsed": false,
    "pycharm": {
     "name": "#%%\n"
    }
   }
  },
  {
   "cell_type": "code",
   "execution_count": null,
   "outputs": [
    {
     "name": "stderr",
     "output_type": "stream",
     "text": [
      "\n",
      "100%|██████████| 7.50k/7.50k [00:00<00:00, 127kiB/s]\n",
      "\n",
      "100%|██████████| 7.50k/7.50k [00:00<00:00, 75.1kiB/s]\n",
      "\n",
      "100%|██████████| 7.50k/7.50k [00:00<00:00, 70.7kiB/s]\n",
      "\n",
      "100%|██████████| 7.50k/7.50k [00:00<00:00, 78.1kiB/s]\n",
      "\n",
      "100%|██████████| 7.50k/7.50k [00:00<00:00, 71.4kiB/s]\n"
     ]
    }
   ],
   "source": [
    "for yr in yrs:\n",
    "    for month in range(1, 13):\n",
    "        for day in ['01','11','21']:\n",
    "            try :\n",
    "                month = str(month).zfill(2)\n",
    "                product = f'WB_{yr}{month}{day}0000_AFRI_PROBAV_V2.0.1'\n",
    "                file = f'g2_BIOPAR_WB_{yr}{month}{day}0000_AFRI_PROBAV_V2.0.1.zip'\n",
    "                addendum = f'{yr}/{month}/{day}/{file}'\n",
    "                url_f = f'https://land.copernicus.vgt.vito.be/PDF/datapool/Water/Water_Bodies/Water_Bodies_Global_V2/{addendum}'\n",
    "\n",
    "                r = session.get(url_f, stream=True)\n",
    "\n",
    "                total_size = int(r.headers.get('content-length', 0))\n",
    "                block_size = 1024  # 1 Kibibyte\n",
    "                t = tqdm(total=total_size, unit='iB', unit_scale=True)\n",
    "                out_file = os.path.join(folder, file)\n",
    "                with open(out_file, 'wb') as f:\n",
    "                    for data in r.iter_content(block_size):\n",
    "                        t.update(len(data))\n",
    "                        f.write(data)\n",
    "                t.close()\n",
    "\n",
    "                if total_size != 0 and t.n != total_size:\n",
    "                    raise IOError\n",
    "\n",
    "            except Exception as e:\n",
    "                print(f'ERROR, something went wrong {e}')\n",
    "                continue\n",
    "print('Done')"
   ],
   "metadata": {
    "collapsed": false,
    "pycharm": {
     "name": "#%%\n",
     "is_executing": true
    }
   }
  }
 ],
 "metadata": {
  "kernelspec": {
   "name": "treotto_dev",
   "language": "python",
   "display_name": "treotto_dev"
  },
  "language_info": {
   "codemirror_mode": {
    "name": "ipython",
    "version": 2
   },
   "file_extension": ".py",
   "mimetype": "text/x-python",
   "name": "python",
   "nbconvert_exporter": "python",
   "pygments_lexer": "ipython2",
   "version": "2.7.6"
  }
 },
 "nbformat": 4,
 "nbformat_minor": 0
}